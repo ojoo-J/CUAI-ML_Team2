{
  "nbformat": 4,
  "nbformat_minor": 0,
  "metadata": {
    "colab": {
      "name": "문서추출요약_koBERT_test.ipynb",
      "provenance": [],
      "toc_visible": true
    },
    "kernelspec": {
      "name": "python3",
      "display_name": "Python 3"
    }
  },
  "cells": [
    {
      "cell_type": "markdown",
      "metadata": {
        "id": "afxqvL_XscWG"
      },
      "source": [
        "##  추출 요약 (Extractive)\r\n",
        "- 원문에서 요약할 문장을 추출하여 요약하는 방법  : koBERT의 max_len = 512\r\n",
        "- **데이터 형태** : 추출될 토큰과 추출되지 않을 토큰에 대해 1과 0으로 라벨링하여 학습 \r\n",
        "\r\n",
        "{\r\n",
        "  \"input_ids\": [2, 1618, 7344, 6705, 2132, 5476, 5468, 6116, 1652, 4930, 5030, 6493,...],\r\n",
        "\r\n",
        "  \"token_type_ids\": [1, 1, 1, 1, 1, 1, 1, 1, 1, 1, 1, 1, 1, 1, 1, 0, 0, 0, 0, 0, 0, 0, 0, 0, ...],\r\n",
        "\r\n",
        "  \"attention_mask\": [1, 1, 1, 1, 1, 1, 1, 1, 1, 1, 1, 1, 1, 1, 1, 1, 1, 1, 1, 1, 1, 1, 0, 0],\r\n",
        "\r\n",
        "  \"labels\": [1, 1, 1, 1, 1, 1, 1, 1, 1, 1, 1, 1, 1, 1, 1, 0, 0, 0, 0, 0, 0, 0, 0, 0, ...]\r\n",
        "}\r\n",
        "\r\n",
        "- **모델 학습 방법** : NER에서 토큰별 라벨을 분류하는 방법과 같이 추출될 문장1과 추출되지 않을 문장0으로 나누어 학습시킴 "
      ]
    },
    {
      "cell_type": "code",
      "metadata": {
        "id": "TOZ3_V_Hyxso"
      },
      "source": [
        "#!pip install kobert_transformers\r\n",
        "#!pip install transformers"
      ],
      "execution_count": null,
      "outputs": []
    },
    {
      "cell_type": "code",
      "metadata": {
        "id": "9SeaE4rNrJyh"
      },
      "source": [
        "import torch\r\n",
        "import torch.nn as nn\r\n",
        "import math\r\n",
        "from torch.nn import CrossEntropyLoss, MSELoss\r\n",
        "from transformers import BertPreTrainedModel\r\n",
        "from kobert_transformers import get_kobert_model\r\n",
        "#from model.config import get_kobert_config"
      ],
      "execution_count": 5,
      "outputs": []
    },
    {
      "cell_type": "code",
      "metadata": {
        "id": "hkQo4FfkrQlB"
      },
      "source": [
        "### extraction \r\n",
        "class KoBERTforExtractiveSummarization(BertPreTrainedModel):\r\n",
        "  def __init__(self,\r\n",
        "                num_labels = 2,\r\n",
        "                hidden_size = 768,\r\n",
        "                hidden_dropout_prob = 0.1,\r\n",
        "               ):\r\n",
        "    super().__init__(get_kobert_config())\r\n",
        "\r\n",
        "    self.num_labels = num_labels\r\n",
        "    self.kobert = get_kobert_model()\r\n",
        "    self.dropout = nn.Dropout(hidden_dropout_prob)\r\n",
        "    self.ffn = nn.Linear(hidden_size, 4*hidden_size)\r\n",
        "    self.classifier = nn.Linear(4*hidden_size, num_labels)\r\n",
        "\r\n",
        "    self.init_weights()\r\n",
        "\r\n",
        "  def forward(\r\n",
        "          self,\r\n",
        "          input_ids=None,\r\n",
        "          attention_mask=None,\r\n",
        "          token_type_ids=None,\r\n",
        "          position_ids=None,\r\n",
        "          head_mask=None,\r\n",
        "          inputs_embeds=None,\r\n",
        "          labels=None\r\n",
        "  ):\r\n",
        "    outputs = self.kobert(\r\n",
        "      input_ids,\r\n",
        "      attention_mask=attention_mask,\r\n",
        "      token_type_ids=token_type_ids,\r\n",
        "      position_ids=position_ids,\r\n",
        "      head_mask=head_mask,\r\n",
        "      inputs_embeds=inputs_embeds,\r\n",
        "    )\r\n",
        "\r\n",
        "    sequence_output = outputs[0]\r\n",
        "\r\n",
        "    sequence_output = self.dropout(sequence_output)\r\n",
        "    sequence_output = self.ffn(sequence_output)\r\n",
        "    logits = self.classifier(sequence_output)\r\n",
        "\r\n",
        "    loss = None\r\n",
        "    if labels is not None:\r\n",
        "      loss_fct = CrossEntropyLoss()#reduction='sum') # reduction mean makes loss small\r\n",
        "      # Only keep active parts of the loss\r\n",
        "      if attention_mask is not None:\r\n",
        "        active_loss = attention_mask.view(-1) == 1\r\n",
        "        active_logits = logits.view(-1, self.num_labels)\r\n",
        "        active_labels = torch.where(\r\n",
        "          active_loss, labels.view(-1), torch.tensor(loss_fct.ignore_index).type_as(labels)\r\n",
        "        )\r\n",
        "        loss = loss_fct(active_logits, active_labels)\r\n",
        "      else:\r\n",
        "        loss = loss_fct(logits.view(-1, self.num_labels), labels.view(-1))\r\n",
        "\r\n",
        "    return_data ={\r\n",
        "      'loss':loss,\r\n",
        "      'logits':logits\r\n",
        "    }\r\n",
        "    return return_data # (loss), logits, (hidden_states), (attentions)"
      ],
      "execution_count": 6,
      "outputs": []
    },
    {
      "cell_type": "code",
      "metadata": {
        "id": "aruraZNyriZr"
      },
      "source": [
        "## output classification \r\n",
        "class KoBERTforSequenceClassfication(BertPreTrainedModel):\r\n",
        "  def __init__(self,\r\n",
        "                num_labels = 2,\r\n",
        "                hidden_size = 768,\r\n",
        "                hidden_dropout_prob = 0.1,\r\n",
        "               ):\r\n",
        "    super().__init__(get_kobert_config())\r\n",
        "\r\n",
        "    self.num_labels = num_labels\r\n",
        "    self.kobert = get_kobert_model()\r\n",
        "    self.dropout = nn.Dropout(hidden_dropout_prob)\r\n",
        "    self.ffn = nn.Linear(hidden_size, 4*hidden_size)\r\n",
        "    self.classifier = nn.Linear(4*hidden_size, num_labels)\r\n",
        "\r\n",
        "    self.init_weights()\r\n",
        "\r\n",
        "  def forward(\r\n",
        "          self,\r\n",
        "          input_ids=None,\r\n",
        "          attention_mask=None,\r\n",
        "          token_type_ids=None,\r\n",
        "          position_ids=None,\r\n",
        "          head_mask=None,\r\n",
        "          inputs_embeds=None,\r\n",
        "          labels=None,\r\n",
        "  ):\r\n",
        "    outputs = self.kobert(\r\n",
        "      input_ids,\r\n",
        "      attention_mask=attention_mask,\r\n",
        "      token_type_ids=token_type_ids,\r\n",
        "      position_ids=position_ids,\r\n",
        "      head_mask=head_mask,\r\n",
        "      inputs_embeds=inputs_embeds,\r\n",
        "    )\r\n",
        "\r\n",
        "    pooled_output = outputs[1]\r\n",
        "\r\n",
        "    pooled_output = self.dropout(pooled_output)\r\n",
        "    ffn_output = self.ffn(pooled_output)\r\n",
        "    logits = self.classifier(ffn_output)\r\n",
        "\r\n",
        "    outputs = (logits,) + outputs[2:]  # add hidden states and attention if they are here\r\n",
        "\r\n",
        "    if labels is not None:\r\n",
        "      if self.num_labels == 1:\r\n",
        "        #  We are doing regression\r\n",
        "        loss_fct = MSELoss()\r\n",
        "        loss = loss_fct(logits.view(-1), labels.view(-1))\r\n",
        "      else:\r\n",
        "        loss_fct = CrossEntropyLoss()\r\n",
        "        loss = loss_fct(logits.view(-1, self.num_labels), labels.view(-1))\r\n",
        "      outputs = (loss,) + outputs\r\n",
        "\r\n",
        "    return outputs  # (loss), logits, (hidden_states), (attentions)"
      ],
      "execution_count": 7,
      "outputs": []
    },
    {
      "cell_type": "code",
      "metadata": {
        "id": "ymRE980ArnZM"
      },
      "source": [
        "### to make input shape of ko-bert \r\n",
        "def kobert_input(tokenizer, str, device = None, max_seq_len = 512):\r\n",
        "  index_of_words = tokenizer.encode(str)\r\n",
        "  token_type_ids = [0] * len(index_of_words)\r\n",
        "  attention_mask = [1] * len(index_of_words)\r\n",
        "\r\n",
        "  # Padding Length\r\n",
        "  padding_length = max_seq_len - len(index_of_words)\r\n",
        "\r\n",
        "  # Zero Padding\r\n",
        "  index_of_words += [0] * padding_length\r\n",
        "  token_type_ids += [0] * padding_length\r\n",
        "  attention_mask += [0] * padding_length\r\n",
        "\r\n",
        "  data = {\r\n",
        "    'input_ids': torch.tensor([index_of_words]).to(device),\r\n",
        "    'token_type_ids': torch.tensor([token_type_ids]).to(device),\r\n",
        "    'attention_mask': torch.tensor([attention_mask]).to(device),\r\n",
        "  }\r\n",
        "  return data"
      ],
      "execution_count": 8,
      "outputs": []
    },
    {
      "cell_type": "code",
      "metadata": {
        "id": "9IOPoTwvro5k"
      },
      "source": [
        "## for logging\r\n",
        "import logging\r\n",
        "\r\n",
        "from transformers.configuration_utils import PretrainedConfig\r\n",
        "from transformers import BertModel, BertConfig"
      ],
      "execution_count": 10,
      "outputs": []
    },
    {
      "cell_type": "code",
      "metadata": {
        "id": "Z_vJALCDr3kU"
      },
      "source": [
        "logger = logging.getLogger(__name__)\r\n",
        "\r\n",
        "#KoBERT\r\n",
        "kobert_config = {\r\n",
        "    'attention_probs_dropout_prob': 0.1,\r\n",
        "    'hidden_act': 'gelu',\r\n",
        "    'hidden_dropout_prob': 0.1,\r\n",
        "    'hidden_size': 768,\r\n",
        "    'initializer_range': 0.02,\r\n",
        "    'intermediate_size': 3072,\r\n",
        "    'max_position_embeddings': 512,\r\n",
        "    'num_attention_heads': 12,\r\n",
        "    'num_hidden_layers': 12,\r\n",
        "    'type_vocab_size': 2,\r\n",
        "    'vocab_size': 8002\r\n",
        "}"
      ],
      "execution_count": 11,
      "outputs": []
    },
    {
      "cell_type": "code",
      "metadata": {
        "id": "-xt1-LyYr87S"
      },
      "source": [
        "def get_kobert_config():\r\n",
        "    return BertConfig.from_dict(kobert_config)"
      ],
      "execution_count": 12,
      "outputs": []
    },
    {
      "cell_type": "code",
      "metadata": {
        "id": "26ADhHRnuFEd"
      },
      "source": [
        ""
      ],
      "execution_count": null,
      "outputs": []
    },
    {
      "cell_type": "markdown",
      "metadata": {
        "id": "MPDYWXhKuFYb"
      },
      "source": [
        "### for dataset"
      ]
    },
    {
      "cell_type": "code",
      "metadata": {
        "id": "LQXVPvucvXz-"
      },
      "source": [
        "def jsonl_load(data_path = './data/train.jsonl'):\r\n",
        "  data = []\r\n",
        "  with open(data_path, 'r') as json_file:\r\n",
        "      json_list = list(json_file)\r\n",
        "\r\n",
        "  for json_str in json_list:\r\n",
        "      data.append(json.loads(json_str))\r\n",
        "\r\n",
        "  return data"
      ],
      "execution_count": 22,
      "outputs": []
    },
    {
      "cell_type": "code",
      "metadata": {
        "id": "IdZ4rqiSuG0e"
      },
      "source": [
        "import torch\r\n",
        "from tqdm import tqdm\r\n",
        "import torch.nn as nn\r\n",
        "from torch.utils.data import Dataset\r\n",
        "from kobert_transformers import get_tokenizer"
      ],
      "execution_count": 23,
      "outputs": []
    },
    {
      "cell_type": "code",
      "metadata": {
        "id": "Tsh-92wEuJpj"
      },
      "source": [
        "class ExtractiveDataset(Dataset):\r\n",
        "  def __init__(self,\r\n",
        "               data_path= './data/train.jsonl',\r\n",
        "               num_label = 2, # 추출할것과 추출하지 않을 것들로\r\n",
        "               device = 'cpu',\r\n",
        "               max_seq_len = 512, # KoBERT max_length\r\n",
        "               ):\r\n",
        "    self.device = device\r\n",
        "    self.data =[]\r\n",
        "    self.tokenizer = get_tokenizer()\r\n",
        "\r\n",
        "    cls_token_id = self.tokenizer.cls_token_id # [CLS]\r\n",
        "    sep_token_id = self.tokenizer.sep_token_id # [SEP]\r\n",
        "    pad_token_id = self.tokenizer.pad_token_id # [PAD]\r\n",
        "\r\n",
        "    jsonl_datas = jsonl_load(data_path=data_path)\r\n",
        "    # for dict_data in jsonl_datas:\r\n",
        "    for dict_data in tqdm(jsonl_datas):\r\n",
        "      articles = dict_data['article_original']\r\n",
        "      extractive_indices = dict_data['extractive']\r\n",
        "\r\n",
        "      index_of_words = None\r\n",
        "      token_type_ids = None\r\n",
        "      label= None\r\n",
        "      token_num = None\r\n",
        "\r\n",
        "      token_type_state = False\r\n",
        "\r\n",
        "      for idx in range(len(articles)):\r\n",
        "        label_state = True if idx in extractive_indices else False\r\n",
        "\r\n",
        "        if idx == 0: # 맨 처음 문장인 경우\r\n",
        "          index_of_words = [cls_token_id]\r\n",
        "          token_type_ids = [int(token_type_state)]\r\n",
        "          label = [int(label_state)]\r\n",
        "          token_num = 1\r\n",
        "\r\n",
        "        article = articles[idx]\r\n",
        "        tmp_index = self.tokenizer.encode(article, add_special_tokens=False)\r\n",
        "        num_tmp_index = len(tmp_index) + 1\r\n",
        "\r\n",
        "        if token_num +  num_tmp_index <= max_seq_len:\r\n",
        "          index_of_words += tmp_index + [sep_token_id]\r\n",
        "          token_type_ids += [int(token_type_state)] * num_tmp_index\r\n",
        "\r\n",
        "          label += [int(label_state)] * num_tmp_index\r\n",
        "          token_num += num_tmp_index\r\n",
        "          token_type_state = not token_type_state\r\n",
        "\r\n",
        "        if token_num +  num_tmp_index > max_seq_len or idx == len(articles)-1 :\r\n",
        "          # attention mask\r\n",
        "          attention_mask = [1] * token_num\r\n",
        "\r\n",
        "          # Padding Length\r\n",
        "          padding_length = max_seq_len - token_num\r\n",
        "\r\n",
        "          # Padding\r\n",
        "          index_of_words += [pad_token_id] * padding_length # [PAD] padding\r\n",
        "          token_type_ids += [token_type_state] * padding_length # last token_type_state padding\r\n",
        "          attention_mask += [0] * padding_length # zero padding\r\n",
        "\r\n",
        "          # Label Zero Padding\r\n",
        "          label += [0] * padding_length\r\n",
        "\r\n",
        "          # Data Append\r\n",
        "          data = {\r\n",
        "                  'input_ids': torch.tensor(index_of_words).to(self.device),\r\n",
        "                  'token_type_ids': torch.tensor(token_type_ids).to(self.device),\r\n",
        "                  'attention_mask': torch.tensor(attention_mask).to(self.device),\r\n",
        "                  'labels': torch.tensor(label).to(self.device)\r\n",
        "                 }\r\n",
        "          self.data.append(data)\r\n",
        "\r\n",
        "          # Data Initialization\r\n",
        "          index_of_words = [cls_token_id]\r\n",
        "          token_type_ids = [int(token_type_state)]\r\n",
        "          label = [int(label_state)]\r\n",
        "          token_num = 1\r\n",
        "          token_type_state = False\r\n",
        "\r\n",
        "\r\n",
        "  def __len__(self):\r\n",
        "    return len(self.data)\r\n",
        "  def __getitem__(self,index):\r\n",
        "    item = self.data[index]\r\n",
        "    return item"
      ],
      "execution_count": 24,
      "outputs": []
    },
    {
      "cell_type": "markdown",
      "metadata": {
        "id": "8BFytGvtsCVO"
      },
      "source": [
        "### train extractive model "
      ]
    },
    {
      "cell_type": "code",
      "metadata": {
        "id": "m4VpBlsxtzDi"
      },
      "source": [
        "#!pip install dataset"
      ],
      "execution_count": null,
      "outputs": []
    },
    {
      "cell_type": "code",
      "metadata": {
        "id": "HabfHZvrr-lv"
      },
      "source": [
        "## req\r\n",
        "import os\r\n",
        "import numpy as np\r\n",
        "import matplotlib.pyplot as plt\r\n",
        "import pandas as pd\r\n",
        "from IPython.display import display\r\n",
        "from tqdm import tqdm\r\n",
        "\r\n",
        "import torch\r\n",
        "from transformers import AdamW\r\n",
        "from torch.utils.data import dataloader"
      ],
      "execution_count": 25,
      "outputs": []
    },
    {
      "cell_type": "code",
      "metadata": {
        "id": "ii1Amokawxt6"
      },
      "source": [
        "import json"
      ],
      "execution_count": 30,
      "outputs": []
    },
    {
      "cell_type": "code",
      "metadata": {
        "colab": {
          "base_uri": "https://localhost:8080/",
          "height": 566
        },
        "id": "P0Hr5GBvsHMG",
        "outputId": "e32a3081-95d0-4dc3-f69e-22b138539e25"
      },
      "source": [
        "def train(epoch, model, optimizer, train_loader, save_step, save_ckpt_path, train_step = 0):\r\n",
        "    losses = []\r\n",
        "    train_start_index = train_step+1 if train_step != 0 else 0\r\n",
        "    total_train_step = len(train_loader)\r\n",
        "    model.train()\r\n",
        "\r\n",
        "    with tqdm(total= total_train_step, desc=f\"Train({epoch})\") as pbar:\r\n",
        "        pbar.update(train_step)\r\n",
        "        for i, data in enumerate(train_loader, train_start_index):\r\n",
        "\r\n",
        "            optimizer.zero_grad()\r\n",
        "            outputs = model(**data)\r\n",
        "\r\n",
        "            loss = outputs['loss']\r\n",
        "            losses.append(loss.item())\r\n",
        "\r\n",
        "            loss.backward()\r\n",
        "            optimizer.step()\r\n",
        "\r\n",
        "            pbar.update(1)\r\n",
        "            pbar.set_postfix_str(f\"Loss: {loss.item():.3f} ({np.mean(losses):.3f})\")\r\n",
        "\r\n",
        "            if i >= total_train_step or i % save_step == 0:\r\n",
        "                torch.save({\r\n",
        "                    'epoch': epoch,  # 현재 학습 epoch\r\n",
        "                    'model_state_dict': model.state_dict(),  # 모델 저장\r\n",
        "                    'optimizer_state_dict': optimizer.state_dict(),  # 옵티마이저 저장\r\n",
        "                    'loss': loss.item(),  # Loss 저장\r\n",
        "                    'losses':losses,\r\n",
        "                    'train_step': i,  # 현재 진행한 학습\r\n",
        "                    'total_train_step': len(train_loader)  # 현재 epoch에 학습 할 총 train step\r\n",
        "                }, save_ckpt_path)\r\n",
        "\r\n",
        "    return np.mean(losses)\r\n",
        "\r\n",
        "\r\n",
        "\r\n",
        "if __name__ == '__main__':\r\n",
        "    checkpoint_path =\"./checkpoint\"\r\n",
        "    save_ckpt_path = f\"{checkpoint_path}/kobert-extractive.pth\"\r\n",
        "\r\n",
        "    n_epoch = 5          # Num of Epoch\r\n",
        "    batch_size = 2      # 배치 사이즈\r\n",
        "    device = \"cuda\" if torch.cuda.is_available() else \"cpu\"\r\n",
        "    save_step = 100 # 학습 저장 주기\r\n",
        "    learning_rate = 5e-5  # Learning Rate\r\n",
        "\r\n",
        "    # WellnessTextClassificationDataset 데이터 로더\r\n",
        "    dataset = ExtractiveDataset(data_path='./data/train_test.jsonl', device=device)\r\n",
        "    train_loader = torch.utils.data.DataLoader(dataset, batch_size=batch_size, shuffle=True)\r\n",
        "\r\n",
        "    model = KoBERTforExtractiveSummarization()\r\n",
        "    model.to(device)\r\n",
        "\r\n",
        "    # Prepare optimizer and schedule (linear warmup and decay)\r\n",
        "    no_decay = ['bias', 'LayerNorm.weight']\r\n",
        "    optimizer_grouped_parameters = [\r\n",
        "        {'params': [p for n, p in model.named_parameters() if not any(nd in n for nd in no_decay)],\r\n",
        "         'weight_decay': 0.01},\r\n",
        "        {'params': [p for n, p in model.named_parameters() if any(nd in n for nd in no_decay)], 'weight_decay': 0.0}\r\n",
        "    ]\r\n",
        "    optimizer = AdamW(optimizer_grouped_parameters, lr=learning_rate)\r\n",
        "\r\n",
        "    pre_epoch, pre_loss, train_step = 0, 0, 0\r\n",
        "    losses = []\r\n",
        "\r\n",
        "    # if os.path.isfile(save_ckpt_path):\r\n",
        "    #     checkpoint = torch.load(save_ckpt_path, map_location=device)\r\n",
        "    #     pre_epoch = checkpoint['epoch']\r\n",
        "    #     pre_loss = checkpoint['loss']\r\n",
        "    #     losses = checkpoint['losses']\r\n",
        "    #     train_step =  checkpoint['train_step']\r\n",
        "    #     total_train_step =  checkpoint['total_train_step']\r\n",
        "    #\r\n",
        "    #     model.load_state_dict(checkpoint['model_state_dict'])\r\n",
        "    #     optimizer.load_state_dict(checkpoint['optimizer_state_dict'])\r\n",
        "    #\r\n",
        "    #     print(f\"load pretrain from: {save_ckpt_path}, epoch={pre_epoch}, loss={pre_loss}\")\r\n",
        "    #     # best_epoch += 1\r\n",
        "\r\n",
        "    offset = pre_epoch\r\n",
        "    for step in range(n_epoch):\r\n",
        "        epoch = step + offset\r\n",
        "        loss = train(epoch, model, optimizer, train_loader, save_step, save_ckpt_path, train_step)\r\n",
        "        losses.append(loss)\r\n",
        "\r\n",
        "    # data\r\n",
        "    data = {\r\n",
        "        \"loss\": losses\r\n",
        "    }\r\n",
        "    df = pd.DataFrame(data)\r\n",
        "    display(df)\r\n",
        "\r\n",
        "    # graph\r\n",
        "    plt.figure(figsize=[12, 4])\r\n",
        "    plt.plot(losses, label=\"loss\")\r\n",
        "    plt.legend()\r\n",
        "    plt.xlabel('Epoch')\r\n",
        "    plt.ylabel('Loss')\r\n",
        "    plt.show()"
      ],
      "execution_count": 32,
      "outputs": [
        {
          "output_type": "stream",
          "text": [
            "100%|██████████| 11/11 [00:00<00:00, 243.06it/s]\n",
            "Train(0): 100%|██████████| 8/8 [01:39<00:00, 12.47s/it, Loss: 0.602 (1.169)]\n",
            "Train(1): 100%|██████████| 8/8 [01:38<00:00, 12.36s/it, Loss: 0.742 (0.866)]\n",
            "Train(2): 100%|██████████| 8/8 [01:39<00:00, 12.48s/it, Loss: 0.634 (0.678)]\n",
            "Train(3): 100%|██████████| 8/8 [01:39<00:00, 12.43s/it, Loss: 0.508 (0.661)]\n",
            "Train(4): 100%|██████████| 8/8 [01:39<00:00, 12.40s/it, Loss: 1.139 (0.651)]\n"
          ],
          "name": "stderr"
        },
        {
          "output_type": "display_data",
          "data": {
            "text/html": [
              "<div>\n",
              "<style scoped>\n",
              "    .dataframe tbody tr th:only-of-type {\n",
              "        vertical-align: middle;\n",
              "    }\n",
              "\n",
              "    .dataframe tbody tr th {\n",
              "        vertical-align: top;\n",
              "    }\n",
              "\n",
              "    .dataframe thead th {\n",
              "        text-align: right;\n",
              "    }\n",
              "</style>\n",
              "<table border=\"1\" class=\"dataframe\">\n",
              "  <thead>\n",
              "    <tr style=\"text-align: right;\">\n",
              "      <th></th>\n",
              "      <th>loss</th>\n",
              "    </tr>\n",
              "  </thead>\n",
              "  <tbody>\n",
              "    <tr>\n",
              "      <th>0</th>\n",
              "      <td>1.169115</td>\n",
              "    </tr>\n",
              "    <tr>\n",
              "      <th>1</th>\n",
              "      <td>0.865778</td>\n",
              "    </tr>\n",
              "    <tr>\n",
              "      <th>2</th>\n",
              "      <td>0.678248</td>\n",
              "    </tr>\n",
              "    <tr>\n",
              "      <th>3</th>\n",
              "      <td>0.661203</td>\n",
              "    </tr>\n",
              "    <tr>\n",
              "      <th>4</th>\n",
              "      <td>0.651073</td>\n",
              "    </tr>\n",
              "  </tbody>\n",
              "</table>\n",
              "</div>"
            ],
            "text/plain": [
              "       loss\n",
              "0  1.169115\n",
              "1  0.865778\n",
              "2  0.678248\n",
              "3  0.661203\n",
              "4  0.651073"
            ]
          },
          "metadata": {
            "tags": []
          }
        },
        {
          "output_type": "display_data",
          "data": {
            "image/png": "[encoded data removed]",
            "text/plain": [
              "<Figure size 864x288 with 1 Axes>"
            ]
          },
          "metadata": {
            "tags": [],
            "needs_background": "light"
          }
        }
      ]
    },
    {
      "cell_type": "markdown",
      "metadata": {
        "id": "-DbNXE9Iw9VA"
      },
      "source": [
        "### run extractive model \r\n",
        "- submisstion : id(아이디명), summary(추출 요약문)"
      ]
    },
    {
      "cell_type": "code",
      "metadata": {
        "id": "vdfeAAlltjF2"
      },
      "source": [
        "# req\r\n",
        "import csv\r\n",
        "import torch\r\n",
        "from tqdm import tqdm\r\n",
        "\r\n",
        "from kobert_transformers import get_tokenizer"
      ],
      "execution_count": 33,
      "outputs": []
    },
    {
      "cell_type": "code",
      "metadata": {
        "id": "QP-3T7olxhUl"
      },
      "source": [
        "### for eval dataset\r\n",
        "class ExtractiveDataset(Dataset):\r\n",
        "  def __init__(self,\r\n",
        "               tokenizer,\r\n",
        "               device = 'cpu',\r\n",
        "               data_path='./data/extractive_test_v2.jsonl',\r\n",
        "               max_seq_len = 512, # KoBERT max_length\r\n",
        "               ):\r\n",
        "    self.device = device\r\n",
        "    self.data =[]\r\n",
        "    self.tokenizer = tokenizer\r\n",
        "\r\n",
        "    cls_token_id = self.tokenizer.cls_token_id # [CLS]\r\n",
        "    sep_token_id = self.tokenizer.sep_token_id # [SEP]\r\n",
        "    pad_token_id = self.tokenizer.pad_token_id # [PAD]\r\n",
        "\r\n",
        "    jsonl_datas = jsonl_load(data_path = data_path)\r\n",
        "    for dict_data in tqdm(jsonl_datas):\r\n",
        "      id = dict_data[\"id\"]\r\n",
        "      articles = dict_data['article_original']\r\n",
        "\r\n",
        "      index_of_words = None\r\n",
        "      token_type_ids = None\r\n",
        "      token_num = None\r\n",
        "\r\n",
        "      token_type_state = False\r\n",
        "\r\n",
        "      for idx in range(len(articles)):\r\n",
        "\r\n",
        "        if idx == 0: # 맨 처음 문장인 경우\r\n",
        "          index_of_words = [cls_token_id]\r\n",
        "          token_type_ids = [int(token_type_state)]\r\n",
        "          token_num = 1\r\n",
        "\r\n",
        "        article = articles[idx]\r\n",
        "        tmp_index = self.tokenizer.encode(article, add_special_tokens=False)\r\n",
        "        num_tmp_index = len(tmp_index) + 1\r\n",
        "\r\n",
        "        if token_num +  num_tmp_index <= max_seq_len:\r\n",
        "          index_of_words += tmp_index + [sep_token_id]\r\n",
        "          token_type_ids += [int(token_type_state)] * num_tmp_index\r\n",
        "\r\n",
        "          token_num += num_tmp_index\r\n",
        "          token_type_state = not token_type_state\r\n",
        "\r\n",
        "        if token_num +  num_tmp_index > max_seq_len or idx == len(articles)-1 :\r\n",
        "          # attention mask\r\n",
        "          attention_mask = [1] * token_num\r\n",
        "\r\n",
        "          # Padding Length\r\n",
        "          padding_length = max_seq_len - token_num\r\n",
        "\r\n",
        "          # Padding\r\n",
        "          index_of_words += [pad_token_id] * padding_length # [PAD] padding\r\n",
        "          token_type_ids += [token_type_state] * padding_length # last token_type_state padding\r\n",
        "          attention_mask += [0] * padding_length # zero padding\r\n",
        "\r\n",
        "          # Data Append\r\n",
        "          # Need additional 1 dimension for inference\r\n",
        "          input = {\r\n",
        "                  'input_ids': torch.tensor([index_of_words]).to(self.device),\r\n",
        "                  'token_type_ids': torch.tensor([token_type_ids]).to(self.device),\r\n",
        "                  'attention_mask': torch.tensor([attention_mask]).to(self.device),\r\n",
        "                 }\r\n",
        "          self.data.append({\r\n",
        "            \"id\":id,\r\n",
        "            \"input\":input\r\n",
        "          })\r\n",
        "\r\n",
        "          # Data Initialization\r\n",
        "          index_of_words = [cls_token_id]\r\n",
        "          token_type_ids = [int(token_type_state)]\r\n",
        "          token_num = 1\r\n",
        "          token_type_state = False\r\n",
        "\r\n",
        "\r\n",
        "  def __len__(self):\r\n",
        "    return len(self.data)\r\n",
        "  def __getitem__(self,index):\r\n",
        "    item = self.data[index]\r\n",
        "    return item"
      ],
      "execution_count": 34,
      "outputs": []
    },
    {
      "cell_type": "code",
      "metadata": {
        "id": "sQjmas8gxpiO"
      },
      "source": [
        "# config\r\n",
        "tokenizer = get_tokenizer()\r\n",
        "dir_path=\".\"\r\n",
        "ckpt_path = f'{dir_path}/checkpoint/kobert-extractive.pth'\r\n",
        "csv_path = f'{dir_path}/data/extractive_summary_kobert.csv'\r\n",
        "ctx = \"cuda\" if torch.cuda.is_available() else \"cpu\"\r\n",
        "device = torch.device(ctx)"
      ],
      "execution_count": 35,
      "outputs": []
    },
    {
      "cell_type": "code",
      "metadata": {
        "colab": {
          "base_uri": "https://localhost:8080/"
        },
        "id": "HvhHJwQLxvRW",
        "outputId": "eb8dfd9b-15a9-4ca6-8bb5-f027cb98c514"
      },
      "source": [
        "# load data\r\n",
        "eval_datas = ExtractiveDataset(tokenizer=tokenizer,data_path='./data/eval_test.jsonl')"
      ],
      "execution_count": 36,
      "outputs": [
        {
          "output_type": "stream",
          "text": [
            "100%|██████████| 9/9 [00:00<00:00, 217.08it/s]\n"
          ],
          "name": "stderr"
        }
      ]
    },
    {
      "cell_type": "code",
      "metadata": {
        "colab": {
          "base_uri": "https://localhost:8080/"
        },
        "id": "IBllVHnaxwjk",
        "outputId": "0ee6aa17-baf2-4160-898b-d04f7c82e076"
      },
      "source": [
        "# load kobert checkpoint\r\n",
        "checkpoint = torch.load(ckpt_path, map_location=device)\r\n",
        "model = KoBERTforExtractiveSummarization()\r\n",
        "model.load_state_dict(checkpoint['model_state_dict'])"
      ],
      "execution_count": 37,
      "outputs": [
        {
          "output_type": "execute_result",
          "data": {
            "text/plain": [
              "<All keys matched successfully>"
            ]
          },
          "metadata": {
            "tags": []
          },
          "execution_count": 37
        }
      ]
    },
    {
      "cell_type": "code",
      "metadata": {
        "colab": {
          "base_uri": "https://localhost:8080/"
        },
        "id": "IRCLdkdKxx7g",
        "outputId": "7dbfc5b6-e9c4-40f8-bd78-c6a33394283b"
      },
      "source": [
        "# eval csv_path\r\n",
        "# 한글 깨짐 방지 설정 encoding='utf-8-sig'\r\n",
        "f = open(csv_path, 'w', encoding='utf-8-sig', newline='')\r\n",
        "wr = csv.writer(f)\r\n",
        "wr.writerow(['id','summary'])"
      ],
      "execution_count": 38,
      "outputs": [
        {
          "output_type": "execute_result",
          "data": {
            "text/plain": [
              "12"
            ]
          },
          "metadata": {
            "tags": []
          },
          "execution_count": 38
        }
      ]
    },
    {
      "cell_type": "code",
      "metadata": {
        "colab": {
          "base_uri": "https://localhost:8080/"
        },
        "id": "XGd6Agbix0Cg",
        "outputId": "877d570b-6313-4a22-846e-78fa8f07e85c"
      },
      "source": [
        "result_data = {}\r\n",
        "for data in tqdm(eval_datas):\r\n",
        "  id = data['id']\r\n",
        "  input = data['input']\r\n",
        "\r\n",
        "  output = model(**input)\r\n",
        "  logit = output['logits'][0]\r\n",
        "  softmax_logit = torch.softmax(logit, dim=1)\r\n",
        "  argmax = torch.argmax(softmax_logit, dim=1)\r\n",
        "\r\n",
        "\r\n",
        "  extractive_index = torch.nonzero(argmax.bool()).view(-1)\r\n",
        "  extractive_input_ids = torch.index_select(input=input['input_ids'],index=extractive_index,dim=-1)\r\n",
        "  result = tokenizer.decode(extractive_input_ids.squeeze(),skip_special_tokens=True)\r\n",
        "  print(result)\r\n",
        "\r\n",
        "  if id in result_data.keys():\r\n",
        "    result_data[id] += result\r\n",
        "  else:\r\n",
        "    result_data[id] = result\r\n",
        "\r\n",
        "for key in result_data:\r\n",
        "  wr.writerow([key,result_data[key]])\r\n",
        "\r\n",
        "f.close()"
      ],
      "execution_count": 39,
      "outputs": [
        {
          "output_type": "stream",
          "text": [
            "  7%|▋         | 1/14 [00:05<01:07,  5.21s/it]"
          ],
          "name": "stderr"
        },
        {
          "output_type": "stream",
          "text": [
            "16 회 편진다,연 강연'01 전(란란 연김 /07 리()\n"
          ],
          "name": "stdout"
        },
        {
          "output_type": "stream",
          "text": [
            "\r 14%|█▍        | 2/14 [00:07<00:51,  4.28s/it]"
          ],
          "name": "stderr"
        },
        {
          "output_type": "stream",
          "text": [
            ") 교수도가 창업적으로를뱅 크화에원은월까지판술분야해 발표했다\n"
          ],
          "name": "stdout"
        },
        {
          "output_type": "stream",
          "text": [
            "\r 21%|██▏       | 3/14 [00:09<00:39,  3.61s/it]"
          ],
          "name": "stderr"
        },
        {
          "output_type": "stream",
          "text": [
            "몫자리를철인데점을 등 국회하다조차 예산 수 특꼽영( 그동안의가 때문이다\n"
          ],
          "name": "stdout"
        },
        {
          "output_type": "stream",
          "text": [
            "\r 29%|██▊       | 4/14 [00:11<00:31,  3.16s/it]"
          ],
          "name": "stderr"
        },
        {
          "output_type": "stream",
          "text": [
            "위해서도\n"
          ],
          "name": "stdout"
        },
        {
          "output_type": "stream",
          "text": [
            "\r 36%|███▌      | 5/14 [00:13<00:25,  2.81s/it]"
          ],
          "name": "stderr"
        },
        {
          "output_type": "stream",
          "text": [
            "시도찍는 취지. 각별로작업 순 시도대 경북 현선을영\n"
          ],
          "name": "stdout"
        },
        {
          "output_type": "stream",
          "text": [
            "\r 43%|████▎     | 6/14 [00:15<00:20,  2.57s/it]"
          ],
          "name": "stderr"
        },
        {
          "output_type": "stream",
          "text": [
            "당회의에서 있을 각 시는개월 윤 시도 의원들\n"
          ],
          "name": "stdout"
        },
        {
          "output_type": "stream",
          "text": [
            "\r 50%|█████     | 7/14 [00:17<00:16,  2.42s/it]"
          ],
          "name": "stderr"
        },
        {
          "output_type": "stream",
          "text": [
            "A 만나’의를· 청소년62한다을 재민주묘\n"
          ],
          "name": "stdout"
        },
        {
          "output_type": "stream",
          "text": [
            "\r 57%|█████▋    | 8/14 [00:19<00:13,  2.29s/it]"
          ],
          "name": "stderr"
        },
        {
          "output_type": "stream",
          "text": [
            "없이분고 있는은 도시 광주 때문에 언론직 지원 그는고 12 돼 퇴 그는 통해 조직 있었다 맞는\n"
          ],
          "name": "stdout"
        },
        {
          "output_type": "stream",
          "text": [
            "\r 64%|██████▍   | 9/14 [00:21<00:11,  2.21s/it]"
          ],
          "name": "stderr"
        },
        {
          "output_type": "stream",
          "text": [
            "\n"
          ],
          "name": "stdout"
        },
        {
          "output_type": "stream",
          "text": [
            "\r 71%|███████▏  | 10/14 [00:23<00:08,  2.16s/it]"
          ],
          "name": "stderr"
        },
        {
          "output_type": "stream",
          "text": [
            "영 세 회장이에서 받았다인법인 호 겸 광주시 광주장들을체육 국제 수영해서 받는영\n"
          ],
          "name": "stdout"
        },
        {
          "output_type": "stream",
          "text": [
            "\r 79%|███████▊  | 11/14 [00:25<00:06,  2.11s/it]"
          ],
          "name": "stderr"
        },
        {
          "output_type": "stream",
          "text": [
            "위원회위원회하고,이 축구협회\n"
          ],
          "name": "stdout"
        },
        {
          "output_type": "stream",
          "text": [
            "\r 86%|████████▌ | 12/14 [00:27<00:04,  2.07s/it]"
          ],
          "name": "stderr"
        },
        {
          "output_type": "stream",
          "text": [
            "의 곳년부터대용한다 운전자 부 승용차 없다부터 상이 때문이다차피해충 차동시스템 의무 추세)\n"
          ],
          "name": "stdout"
        },
        {
          "output_type": "stream",
          "text": [
            "\r 93%|█████████▎| 13/14 [00:29<00:02,  2.08s/it]"
          ],
          "name": "stderr"
        },
        {
          "output_type": "stream",
          "text": [
            "라하기도 “도일의적방은만콧통 경우 일부해 쉽게 세 그대로별이나\n"
          ],
          "name": "stdout"
        },
        {
          "output_type": "stream",
          "text": [
            "100%|██████████| 14/14 [00:31<00:00,  2.27s/it]"
          ],
          "name": "stderr"
        },
        {
          "output_type": "stream",
          "text": [
            "정 유지 치료 운동과 에어컨해시간는\n"
          ],
          "name": "stdout"
        },
        {
          "output_type": "stream",
          "text": [
            "\n"
          ],
          "name": "stderr"
        }
      ]
    },
    {
      "cell_type": "markdown",
      "metadata": {
        "id": "5yrhEmA8zq4x"
      },
      "source": [
        "### 최종 결과 형태 \r\n",
        "![image.png](data:image/png;base64,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)"
      ]
    },
    {
      "cell_type": "code",
      "metadata": {
        "id": "jk5bSYb5zvcX"
      },
      "source": [
        ""
      ],
      "execution_count": null,
      "outputs": []
    }
  ]
}